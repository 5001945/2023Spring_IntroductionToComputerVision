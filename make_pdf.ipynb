{
 "cells": [
  {
   "cell_type": "code",
   "execution_count": 1,
   "metadata": {},
   "outputs": [],
   "source": [
    "import os\n",
    "from datetime import datetime\n",
    "\n",
    "import numpy as np\n",
    "from scipy.spatial import distance\n",
    "from PIL import ImageFont\n",
    "\n",
    "from fpdf import FPDF\n"
   ]
  },
  {
   "cell_type": "code",
   "execution_count": 3,
   "metadata": {},
   "outputs": [],
   "source": [
    "scale = 10\n",
    "font_sizes = [8, 11, 15]\n",
    "font_paths = {\n",
    "    \"Arial\": \"fonts/arial.ttf\",\n",
    "    \"Comic Sans MS\": \"fonts/comic.ttf\",\n",
    "    \"Courier New\": \"fonts/cour.ttf\",\n",
    "    \"Malgun Gothic\": \"fonts/malgun.ttf\",\n",
    "    \"Times New Roman\": \"fonts/times.ttf\",\n",
    "}\n",
    "fonts = {\n",
    "    font_name: {font_size: ImageFont.truetype(font_path, font_size) for font_size in font_sizes}\n",
    "    for font_name, font_path\n",
    "    in font_paths.items()\n",
    "}\n"
   ]
  },
  {
   "cell_type": "code",
   "execution_count": 18,
   "metadata": {},
   "outputs": [],
   "source": [
    "def _make_cell_with_box(pdf: FPDF, tl: tuple[float, float], br: tuple[float, float], font_name: str, text: str):\n",
    "    \"\"\"Make a new cell in pdf.\n",
    "\n",
    "    Parameters\n",
    "    ----------\n",
    "    pdf : FPDF\n",
    "        FPDF object\n",
    "    tl : tuple[int, int]\n",
    "        Coordinate of top-left corner (x, y)\n",
    "    br : tuple[int, int]\n",
    "        Coordinate of bottom-right corner (x, y)\n",
    "    font : str\n",
    "        Font of the cell.\n",
    "    text : str\n",
    "        Text of the cell.\n",
    "    \"\"\"\n",
    "    pdf.set_xy(*tl)\n",
    "    w, h = br[0] - tl[0], br[1] - tl[1]  # 단위: mm\n",
    "\n",
    "    d = {}\n",
    "    for point, font in fonts[font_name].items():\n",
    "        bbox = font.getbbox(text)  # 단위: px\n",
    "        rendered_w = (bbox[2] - bbox[0]) * 0.34  # px -> mm. 실제로는 0.352778이라는데 재 보니 0.34에 가깝다.\n",
    "        rendered_h = (bbox[3] - bbox[1]) * 0.34\n",
    "        if rendered_w > w * 1.05:\n",
    "            continue\n",
    "        d[point] = distance.euclidean([w, h], [rendered_w, rendered_h])\n",
    "    if d:\n",
    "        size = min(d, key=d.get)\n",
    "    else:\n",
    "        size = font_sizes[0]\n",
    "    pdf.set_font(font_name, size=size)\n",
    "    pdf.cell(w, h, text, align='L')\n"
   ]
  },
  {
   "cell_type": "code",
   "execution_count": 19,
   "metadata": {},
   "outputs": [
    {
     "name": "stderr",
     "output_type": "stream",
     "text": [
      "meta NOT subset; don't know how to subset; dropped\n"
     ]
    },
    {
     "name": "stdout",
     "output_type": "stream",
     "text": [
      "14.17233560090703\n"
     ]
    }
   ],
   "source": [
    "pdf = FPDF(unit='mm')\n",
    "for font_name, font_path in font_paths.items():\n",
    "    pdf.add_font(font_name, fname=font_path)\n",
    "pdf.add_page(format='A4')\n",
    "\n",
    "# results: results in ocr.ipynb\n",
    "# each_fonts: each_fonts in ocr.ipynb\n",
    "for (bbox, text, prob), font in zip(results, each_fonts):\n",
    "    (tl, tr, br, bl) = bbox\n",
    "    tl = (tl[0] / scale, tl[1] / scale)\n",
    "    br = (br[0] / scale, br[1] / scale)\n",
    "    _make_cell_with_box(pdf, tl, br, font_name=font, text=text)\n",
    "\n",
    "pdf.output(\"Output.pdf\")\n"
   ]
  },
  {
   "cell_type": "code",
   "execution_count": null,
   "metadata": {},
   "outputs": [],
   "source": []
  }
 ],
 "metadata": {
  "kernelspec": {
   "display_name": "cv",
   "language": "python",
   "name": "python3"
  },
  "language_info": {
   "codemirror_mode": {
    "name": "ipython",
    "version": 3
   },
   "file_extension": ".py",
   "mimetype": "text/x-python",
   "name": "python",
   "nbconvert_exporter": "python",
   "pygments_lexer": "ipython3",
   "version": "3.10.11"
  },
  "orig_nbformat": 4
 },
 "nbformat": 4,
 "nbformat_minor": 2
}
